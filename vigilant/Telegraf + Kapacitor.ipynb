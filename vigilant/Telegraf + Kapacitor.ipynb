{
 "cells": [
  {
   "cell_type": "code",
   "execution_count": null,
   "metadata": {},
   "outputs": [],
   "source": [
    "import logging\n",
    "log = logging.getLogger('werkzeug')\n",
    "log.setLevel(logging.ERROR)\n",
    "\n",
    "from vigilant.http_monitor import Monitor\n",
    "from vigilant import config\n",
    "import numpy as np\n",
    "def read_voltage():\n",
    "    return np.random.normal(1, 0.05)\n",
    "\n",
    "def read_current():\n",
    "    return np.random.normal(2, 0.05)\n",
    "\n",
    "m = Monitor()\n",
    "m.watch(read_voltage, bounds=[0.9, 1.0])\n",
    "m.watch(read_current, bounds=[1.9, 2.0])\n"
   ]
  },
  {
   "cell_type": "code",
   "execution_count": null,
   "metadata": {},
   "outputs": [],
   "source": [
    "from vigilant.extensions import InfluxClient\n",
    "client = InfluxClient(config['influx']['measurement'])"
   ]
  },
  {
   "cell_type": "code",
   "execution_count": null,
   "metadata": {},
   "outputs": [],
   "source": [
    "client.query(f\"SELECT * FROM {database}..alerts  ORDER BY time DESC LIMIT 50\")"
   ]
  },
  {
   "cell_type": "code",
   "execution_count": null,
   "metadata": {},
   "outputs": [],
   "source": [
    "client.post('DROP DATABASE vigilant')"
   ]
  },
  {
   "cell_type": "code",
   "execution_count": null,
   "metadata": {},
   "outputs": [],
   "source": [
    "from vigilant.tick.tasks import process_alerts, submit_task\n",
    "\n",
    "fields = ['default/read_voltage', 'default/read_current']\n",
    "script = process_alerts(fields)\n",
    "print(script)\n",
    "\n",
    "submit_task('comparator', script)"
   ]
  }
 ],
 "metadata": {
  "kernelspec": {
   "display_name": "Python 3",
   "language": "python",
   "name": "python3"
  },
  "language_info": {
   "codemirror_mode": {
    "name": "ipython",
    "version": 3
   },
   "file_extension": ".py",
   "mimetype": "text/x-python",
   "name": "python",
   "nbconvert_exporter": "python",
   "pygments_lexer": "ipython3",
   "version": "3.6.6"
  },
  "toc": {
   "base_numbering": 1,
   "nav_menu": {},
   "number_sections": false,
   "sideBar": true,
   "skip_h1_title": false,
   "title_cell": "Table of Contents",
   "title_sidebar": "Contents",
   "toc_cell": false,
   "toc_position": {},
   "toc_section_display": true,
   "toc_window_display": false
  }
 },
 "nbformat": 4,
 "nbformat_minor": 2
}
