{
 "cells": [
  {
   "cell_type": "code",
   "execution_count": null,
   "metadata": {},
   "outputs": [],
   "source": [
    "from vigilant.extensions import InfluxClient\n",
    "client = InfluxClient('', 'telegraf')"
   ]
  },
  {
   "cell_type": "code",
   "execution_count": null,
   "metadata": {},
   "outputs": [],
   "source": [
    "client.query('SHOW MEASUREMENTS ON telegraf')"
   ]
  },
  {
   "cell_type": "code",
   "execution_count": null,
   "metadata": {},
   "outputs": [],
   "source": [
    "res = client.query('SELECT * FROM telegraf..test')\n",
    "res['results']"
   ]
  },
  {
   "cell_type": "code",
   "execution_count": null,
   "metadata": {},
   "outputs": [],
   "source": [
    "client.post('DROP DATABASE telegraf')"
   ]
  },
  {
   "cell_type": "code",
   "execution_count": null,
   "metadata": {},
   "outputs": [],
   "source": [
    "import textwrap, requests, json\n",
    "def compare(measurement, field, database, rp='autogen'):\n",
    "    # create and run a task comparing the passed field against its max value\n",
    "    task_id = field.replace('/', '-')\n",
    "    script = textwrap.dedent(f\"\"\"\n",
    "        stream\n",
    "            |from()\n",
    "                .measurement('test')\n",
    "            |log()\n",
    "            |alert()\n",
    "                .crit(lambda: \"{field}\" >  \"{field}:max\")\n",
    "                .message('out of range')\n",
    "                .details('')\n",
    "                .log('/tmp/alerts.txt')\n",
    "    \"\"\")\n",
    "    task = {\n",
    "        \"id\" : task_id,\n",
    "        \"type\" : \"stream\",\n",
    "        \"dbrps\": [{\"db\": database, \"rp\" : rp}],\n",
    "        \"script\": script,\n",
    "        \"status\": \"enabled\"\n",
    "    }\n",
    "    requests.delete(f'http://localhost:9092/kapacitor/v1/tasks/{task_id}')\n",
    "\n",
    "    r = requests.post('http://localhost:9092/kapacitor/v1/tasks', data=json.dumps(task))\n",
    "    return r\n",
    "\n",
    "compare('test', 'default/read_voltage', 'telegraf').text\n",
    "    \n",
    "    \n",
    "    \n"
   ]
  },
  {
   "cell_type": "code",
   "execution_count": null,
   "metadata": {},
   "outputs": [],
   "source": [
    "json.dumps(task)"
   ]
  },
  {
   "cell_type": "code",
   "execution_count": null,
   "metadata": {},
   "outputs": [],
   "source": [
    "import os\n",
    "os.environ['KAPACITOR_DATA_DIR'] = \"/Users/robbiefasano/.kapacitor\""
   ]
  },
  {
   "cell_type": "code",
   "execution_count": null,
   "metadata": {},
   "outputs": [],
   "source": []
  }
 ],
 "metadata": {
  "kernelspec": {
   "display_name": "Python 3",
   "language": "python",
   "name": "python3"
  },
  "language_info": {
   "codemirror_mode": {
    "name": "ipython",
    "version": 3
   },
   "file_extension": ".py",
   "mimetype": "text/x-python",
   "name": "python",
   "nbconvert_exporter": "python",
   "pygments_lexer": "ipython3",
   "version": "3.7.1"
  },
  "toc": {
   "base_numbering": 1,
   "nav_menu": {},
   "number_sections": false,
   "sideBar": true,
   "skip_h1_title": false,
   "title_cell": "Table of Contents",
   "title_sidebar": "Contents",
   "toc_cell": false,
   "toc_position": {},
   "toc_section_display": true,
   "toc_window_display": false
  }
 },
 "nbformat": 4,
 "nbformat_minor": 2
}
