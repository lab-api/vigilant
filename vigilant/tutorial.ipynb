{
 "cells": [
  {
   "cell_type": "markdown",
   "metadata": {},
   "source": [
    "# Monitoring\n",
    "## Watchers\n",
    "The Monitor class allows you to track defined parameters, visualize their time series, and implement custom reactions if they go outside of defined thresholds. Let's say we have some function which measures and returns a voltage, which for the purposes of this tutorial we will generate from a normal distribution:"
   ]
  },
  {
   "cell_type": "code",
   "execution_count": null,
   "metadata": {},
   "outputs": [],
   "source": [
    "import numpy as np\n",
    "def read_voltage():\n",
    "    return np.random.normal(1, 0.05)"
   ]
  },
  {
   "cell_type": "markdown",
   "metadata": {},
   "source": [
    "It's very simple to define a Monitor to watch this voltage:"
   ]
  },
  {
   "cell_type": "code",
   "execution_count": null,
   "metadata": {},
   "outputs": [],
   "source": [
    "from vigilant import Monitor\n",
    "m = Monitor(period=1, measurement='test', dashboard = 'Vigilant')\n",
    "m.watch(read_voltage)\n",
    "m.start()"
   ]
  },
  {
   "cell_type": "markdown",
   "metadata": {},
   "source": [
    "The periodic acquisiton uses Python's sched module for event scheduling to avoid accumulated drifts. For example, if your check() method takes 50 ms to return and you call it in a loop with a 1 s delay, the true time between checks will actually be 1.05 s. Using the scheduler allows drift-free checking; however, you should make sure that the check() call always returns in a time shorter than your chosen period!\n",
    "\n",
    "If you pass a filename to the \"filename\" keyword argument, sampled data will be written to disk in CSV format.\n",
    "\n",
    "### Influx/Grafana integration\n",
    "By passing a measurement name to the \"measurement\" keyword of the Monitor class, the Monitor will send all sampled data to the corresponding measurement in an Influx database. This feature requires that Influx is installed and running at the address and port specified in config.yml.\n",
    "\n",
    "Vigilant can also autogenerate Grafana dashboards displaying the monitored variables. To activate this, make sure that Grafana is installed and running on the corresponding address and port in config.yml, then pass a name to the \"dashboard\" keyword argument of the Monitor class. Each time a Monitor is added to the watch list, it will be added if it doesn't already exist in the dashboard."
   ]
  },
  {
   "cell_type": "markdown",
   "metadata": {},
   "source": [
    "### Watching new variables\n",
    "New variables can be added dynamically while the monitor is running:"
   ]
  },
  {
   "cell_type": "code",
   "execution_count": null,
   "metadata": {},
   "outputs": [],
   "source": [
    "def read_current():\n",
    "    return np.random.normal(0.1, 0.01)\n",
    "m.watch(read_current, name='read_current', category='test')"
   ]
  },
  {
   "cell_type": "markdown",
   "metadata": {},
   "source": [
    "Since we passed a category to this variable, it will appear in the Monitor.data DataFrame in the column \"laser/read_current\", whereas the first was stored in the default category as \"default/read_voltage\"."
   ]
  },
  {
   "cell_type": "code",
   "execution_count": null,
   "metadata": {},
   "outputs": [],
   "source": [
    "m.data"
   ]
  },
  {
   "cell_type": "markdown",
   "metadata": {},
   "source": [
    "## Listeners\n",
    "You can also define passively-monitored objects - instead of being queried by the Monitor for their state, the Monitor can subscribe to a remote data source to be updated asynchronously with the monitoring cycle: "
   ]
  },
  {
   "cell_type": "code",
   "execution_count": null,
   "metadata": {},
   "outputs": [],
   "source": [
    "m.listen('data feed', address='127.0.0.1:9000')"
   ]
  },
  {
   "cell_type": "markdown",
   "metadata": {},
   "source": [
    "Let's send random data into this feed every 250 ms:"
   ]
  },
  {
   "cell_type": "code",
   "execution_count": null,
   "metadata": {},
   "outputs": [],
   "source": [
    "from vigilant.extensions import Publisher\n",
    "from threading import Thread \n",
    "import time \n",
    "\n",
    "feed = Publisher('127.0.0.1:9000')\n",
    "\n",
    "def generate_data(feed):\n",
    "    while True:\n",
    "        feed.update(np.random.normal(0.3, 0.05))\n",
    "        time.sleep(0.25)\n",
    "        \n",
    "Thread(target=generate_data, args=(feed,)).start()"
   ]
  },
  {
   "cell_type": "markdown",
   "metadata": {},
   "source": [
    "Notice that the plot is only updated once per second - this is because the feed is checked every 250 ms in a separate process and the result is put into a queue, which is read during the normal monitoring cycle."
   ]
  },
  {
   "cell_type": "markdown",
   "metadata": {},
   "source": [
    "## Reactions"
   ]
  },
  {
   "cell_type": "markdown",
   "metadata": {},
   "source": [
    "When you specify a variable to watch, you can pass a threshold tuple defining the \"good\" range for the variable. You can also pass a function to be called when the variable goes outside of the threshold:"
   ]
  },
  {
   "cell_type": "code",
   "execution_count": null,
   "metadata": {},
   "outputs": [],
   "source": [
    "def read_noisy_voltage():\n",
    "    return np.random.normal(0.5, 0.1)\n",
    "\n",
    "def alert():\n",
    "    print('Noisy voltage below threshold!')\n",
    "    \n",
    "m.watch(read_noisy_voltage, threshold=(0.4, None), reaction = alert)"
   ]
  },
  {
   "cell_type": "markdown",
   "metadata": {},
   "source": [
    "Reactions for Listeners can be set as well; the logical comparison will be made during the monitoring cycle, not in the asychronous listening process."
   ]
  },
  {
   "cell_type": "markdown",
   "metadata": {},
   "source": [
    "To stop the monitoring, call the Monitor.stop() method:"
   ]
  },
  {
   "cell_type": "code",
   "execution_count": null,
   "metadata": {},
   "outputs": [],
   "source": [
    "m.stop()"
   ]
  },
  {
   "cell_type": "markdown",
   "metadata": {},
   "source": [
    "## Triggering\n",
    "Monitoring can be synced to some other process through software triggers, e.g. TTL pulses acquired with a DAQ board. Just define a method which returns as soon as a trigger is received and pass the trigger into the Monitor.start() method. Let's simulate a trigger arriving once per second:"
   ]
  },
  {
   "cell_type": "code",
   "execution_count": null,
   "metadata": {},
   "outputs": [],
   "source": [
    "import time\n",
    "def trigger():\n",
    "    time.sleep(1)\n",
    "    return\n",
    "\n",
    "triggered_monitor=Monitor(trigger=trigger)\n",
    "triggered_monitor.watch(read_voltage)\n",
    "triggered_monitor.start()"
   ]
  },
  {
   "cell_type": "code",
   "execution_count": null,
   "metadata": {},
   "outputs": [],
   "source": [
    "triggered_monitor.stop()"
   ]
  },
  {
   "cell_type": "markdown",
   "metadata": {},
   "source": [
    "# Extensions\n",
    "By default, Vigilant runs in a very lightweight mode which only acquires data and stores it internally. More sophisticated behavior can be added by registering an extension class using the ``Monitor.add_extension()`` method. The InfluxClient and FileLogger extensions can be enabled by passing \"measurement\" or \"filename\" keyword arguments to the Monitor class. As well as the supported classes, you can create custom extensions - the only requirement is that they have an ``update(data)`` method which takes a pandas DataFrame and processes it however you'd like."
   ]
  },
  {
   "cell_type": "markdown",
   "metadata": {},
   "source": [
    "## ZMQ feed\n",
    "A ZeroMQ-based pub-sub protocol can be implemented by attaching a Publisher object to the Monitor:"
   ]
  },
  {
   "cell_type": "code",
   "execution_count": null,
   "metadata": {},
   "outputs": [],
   "source": [
    "from vigilant.extensions import Publisher\n",
    "m.add_extension(Publisher('127.0.0.1:1107'))"
   ]
  },
  {
   "cell_type": "markdown",
   "metadata": {},
   "source": [
    "The Publisher will broadcast each new measurement on the specified address and port. To receive these messages, you can create a Subscriber:"
   ]
  },
  {
   "cell_type": "code",
   "execution_count": null,
   "metadata": {},
   "outputs": [],
   "source": [
    "from vigilant.extensions import Subscriber\n",
    "sub = Subscriber('127.0.0.1:1107')\n",
    "sub.receive()"
   ]
  },
  {
   "cell_type": "markdown",
   "metadata": {},
   "source": [
    "This can be used to broadcast data to other processes for analysis."
   ]
  }
 ],
 "metadata": {
  "kernelspec": {
   "display_name": "Python 3",
   "language": "python",
   "name": "python3"
  },
  "language_info": {
   "codemirror_mode": {
    "name": "ipython",
    "version": 3
   },
   "file_extension": ".py",
   "mimetype": "text/x-python",
   "name": "python",
   "nbconvert_exporter": "python",
   "pygments_lexer": "ipython3",
   "version": "3.6.6"
  },
  "toc": {
   "base_numbering": 1,
   "nav_menu": {},
   "number_sections": false,
   "sideBar": true,
   "skip_h1_title": false,
   "title_cell": "Table of Contents",
   "title_sidebar": "Contents",
   "toc_cell": false,
   "toc_position": {
    "height": "calc(100% - 180px)",
    "left": "10px",
    "top": "150px",
    "width": "288px"
   },
   "toc_section_display": true,
   "toc_window_display": true
  }
 },
 "nbformat": 4,
 "nbformat_minor": 2
}
