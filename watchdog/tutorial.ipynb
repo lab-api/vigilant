{
 "cells": [
  {
   "cell_type": "markdown",
   "metadata": {},
   "source": [
    "# Monitoring\n",
    "The Monitor class allows you to track defined parameters, visualize their time series, and implement custom reactions if they go outside of defined thresholds. Let's say we have some function which measures and returns a voltage, which for the purposes of this tutorial we will generate from a normal distribution:"
   ]
  },
  {
   "cell_type": "code",
   "execution_count": null,
   "metadata": {},
   "outputs": [],
   "source": [
    "import numpy as np\n",
    "def read_voltage():\n",
    "    return np.random.normal(1, 0.05)"
   ]
  },
  {
   "cell_type": "markdown",
   "metadata": {},
   "source": [
    "It's very simple to define a Monitor to watch this voltage:"
   ]
  },
  {
   "cell_type": "code",
   "execution_count": null,
   "metadata": {},
   "outputs": [],
   "source": [
    "from watchdog import Monitor\n",
    "m = Monitor()\n",
    "m.watch(read_voltage)\n",
    "m.start(period=1)"
   ]
  },
  {
   "cell_type": "markdown",
   "metadata": {},
   "source": [
    "The periodic acquisiton uses Python's sched module for event scheduling to avoid accumulated drifts. For example, if your check() method takes 50 ms to return and you call it in a loop with a 1 s delay, the true time between checks will actually be 1.05 s. Using the scheduler allows drift-free checking; however, you should make sure that the check() call always returns in a time shorter than your chosen period!"
   ]
  },
  {
   "cell_type": "markdown",
   "metadata": {},
   "source": [
    "## Watching new variables\n",
    "New variables can be added dynamically while the monitor is running:"
   ]
  },
  {
   "cell_type": "code",
   "execution_count": null,
   "metadata": {},
   "outputs": [],
   "source": [
    "def read_current():\n",
    "    return np.random.normal(0.1, 0.01)\n",
    "m.watch(read_current, name='current')"
   ]
  },
  {
   "cell_type": "markdown",
   "metadata": {},
   "source": [
    "## Reactions"
   ]
  },
  {
   "cell_type": "markdown",
   "metadata": {},
   "source": [
    "When you specify a variable to watch, you can pass a threshold tuple defining the \"good\" range for the variable. You can also pass a function to be called when the variable goes outside of the threshold:"
   ]
  },
  {
   "cell_type": "code",
   "execution_count": null,
   "metadata": {},
   "outputs": [],
   "source": [
    "def read_noisy_voltage():\n",
    "    return np.random.normal(0.5, 0.1)\n",
    "\n",
    "def alert():\n",
    "    print('Noisy voltage below threshold!')\n",
    "    \n",
    "m.watch(read_noisy_voltage, threshold=(0.4, None), reaction = alert)"
   ]
  },
  {
   "cell_type": "markdown",
   "metadata": {},
   "source": [
    "To stop the monitoring, call the Monitor.stop() method:"
   ]
  },
  {
   "cell_type": "code",
   "execution_count": null,
   "metadata": {},
   "outputs": [],
   "source": [
    "m.stop()"
   ]
  },
  {
   "cell_type": "markdown",
   "metadata": {},
   "source": [
    "## Triggering\n",
    "Monitoring can be synced to some other process through software triggers, e.g. TTL pulses acquired with a DAQ board. Just define a method which returns as soon as a trigger is received and pass the trigger into the Monitor.start() method. Let's simulate a trigger arriving once per second:"
   ]
  },
  {
   "cell_type": "code",
   "execution_count": null,
   "metadata": {},
   "outputs": [],
   "source": [
    "import time\n",
    "def trigger():\n",
    "    time.sleep(1)\n",
    "    return\n",
    "\n",
    "m.start(trigger=trigger)"
   ]
  },
  {
   "cell_type": "code",
   "execution_count": null,
   "metadata": {},
   "outputs": [],
   "source": [
    "m.stop()"
   ]
  },
  {
   "cell_type": "markdown",
   "metadata": {},
   "source": [
    "# Extensions\n",
    "By default, Watchdog runs in a very lightweight mode which only acquires data and stores it internally. More sophisticated behavior can be added by registering an extension class using the ``Monitor.add_extension()`` method. As well as the supported classes, you can create custom extensions - the only requirement is that they have an ``update(data)`` method which takes a pandas DataFrame and processes it however you'd like."
   ]
  },
  {
   "cell_type": "markdown",
   "metadata": {},
   "source": [
    "## Live plotting\n",
    "Interactive realtime plotting in Jupyter notebooks is enabled by attaching a Visualizer to the Monitor:"
   ]
  },
  {
   "cell_type": "code",
   "execution_count": null,
   "metadata": {},
   "outputs": [],
   "source": [
    "from watchdog.extensions import Visualizer\n",
    "vis = Visualizer()\n",
    "m.add_extension(vis)\n",
    "vis.plot()"
   ]
  },
  {
   "cell_type": "markdown",
   "metadata": {},
   "source": [
    "## ZMQ feed\n",
    "A ZeroMQ-based pub-sub protocol can be implemented by attaching a Publisher object to the Monitor:"
   ]
  },
  {
   "cell_type": "code",
   "execution_count": null,
   "metadata": {},
   "outputs": [],
   "source": [
    "from watchdog.extensions import Publisher\n",
    "m.add_extension(Publisher(address='127.0.0.1', port=1107))"
   ]
  },
  {
   "cell_type": "markdown",
   "metadata": {},
   "source": [
    "The Publisher will broadcast each new measurement on the specified address and port. To receive these messages, you can create a Subscriber:"
   ]
  },
  {
   "cell_type": "code",
   "execution_count": null,
   "metadata": {},
   "outputs": [],
   "source": [
    "from watchdog.extensions import Subscriber\n",
    "sub = Subscriber(address='127.0.0.1', port=1107)\n",
    "sub.get()"
   ]
  },
  {
   "cell_type": "markdown",
   "metadata": {},
   "source": [
    "This can be used to broadcast data to other processes for analysis."
   ]
  },
  {
   "cell_type": "markdown",
   "metadata": {},
   "source": [
    "## TICK database\n",
    "For long-term monitoring with large datasets, the pandas + ZeroMQ stack can be replaced with an InfluxDB database. The InfluxClient class can be used for this purpose:"
   ]
  },
  {
   "cell_type": "code",
   "execution_count": null,
   "metadata": {},
   "outputs": [],
   "source": [
    "from watchdog.extensions import InfluxClient\n",
    "m.add_extension(InfluxClient(address='127.0.0.1', port=8086, database='demo'))"
   ]
  },
  {
   "cell_type": "markdown",
   "metadata": {},
   "source": [
    "The same client class can be used to retrieve data from other scripts on any networked PC:"
   ]
  },
  {
   "cell_type": "code",
   "execution_count": null,
   "metadata": {},
   "outputs": [],
   "source": [
    "other_client = InfluxClient(address='127.0.0.1', port=8086, database='demo')\n",
    "other_client.read()"
   ]
  },
  {
   "cell_type": "code",
   "execution_count": null,
   "metadata": {},
   "outputs": [],
   "source": []
  }
 ],
 "metadata": {
  "kernelspec": {
   "display_name": "Python 3",
   "language": "python",
   "name": "python3"
  },
  "language_info": {
   "codemirror_mode": {
    "name": "ipython",
    "version": 3
   },
   "file_extension": ".py",
   "mimetype": "text/x-python",
   "name": "python",
   "nbconvert_exporter": "python",
   "pygments_lexer": "ipython3",
   "version": "3.7.1"
  },
  "toc": {
   "base_numbering": 1,
   "nav_menu": {},
   "number_sections": false,
   "sideBar": true,
   "skip_h1_title": false,
   "title_cell": "Table of Contents",
   "title_sidebar": "Contents",
   "toc_cell": false,
   "toc_position": {},
   "toc_section_display": true,
   "toc_window_display": true
  }
 },
 "nbformat": 4,
 "nbformat_minor": 2
}
