{
 "cells": [
  {
   "cell_type": "markdown",
   "metadata": {},
   "source": [
    "# Watchdogs\n",
    "The Watchdog class is a modular monitoring unit which periodically runs one experiment and compares the result against a defined threshold. Thresholds are defined with a tuple of the lower and upper bound; passing None to either element will deactivate that bound."
   ]
  },
  {
   "cell_type": "code",
   "execution_count": 1,
   "metadata": {},
   "outputs": [
    {
     "data": {
      "text/plain": [
       "(2, False)"
      ]
     },
     "execution_count": 1,
     "metadata": {},
     "output_type": "execute_result"
    }
   ],
   "source": [
    "from watchdog import Watchdog\n",
    "\n",
    "def experiment():\n",
    "    return 2\n",
    "\n",
    "params = {}\n",
    "w = Watchdog(experiment=experiment, threshold=(0, 1), name='MyWatchdog')\n",
    "w.check()"
   ]
  },
  {
   "cell_type": "markdown",
   "metadata": {},
   "source": [
    "The check() method returns a tuple consisting of the measured value and the result of the logical comparison to the specified thresholds.\n",
    "\n",
    "When a check fails, the Watchdog calls its react() method. This method does nothing by default, but you can implement any custom functionality to respond to problems with monitored variables. For example, let's reimplement w.react() to print a big warning message when the check fails:"
   ]
  },
  {
   "cell_type": "code",
   "execution_count": 2,
   "metadata": {},
   "outputs": [
    {
     "name": "stdout",
     "output_type": "stream",
     "text": [
      "WARNING: Watchdog variable out of range!!\n"
     ]
    },
    {
     "data": {
      "text/plain": [
       "(2, False)"
      ]
     },
     "execution_count": 2,
     "metadata": {},
     "output_type": "execute_result"
    }
   ],
   "source": [
    "def warning():\n",
    "    print('WARNING: Watchdog variable out of range!!')\n",
    "    \n",
    "w.react = warning\n",
    "w.check()"
   ]
  },
  {
   "cell_type": "markdown",
   "metadata": {},
   "source": [
    "Practical implementation of a Watchdog-based monitoring system in the lab will probably involve passing ADC read methods to the Watchdog.experiment attribute. For example, suppose the function read_ADC(ch) reads a channel labeled by the integer 'ch' (we'll return dummy values of 0 and 2 instead):"
   ]
  },
  {
   "cell_type": "code",
   "execution_count": 3,
   "metadata": {},
   "outputs": [],
   "source": [
    "import numpy as np\n",
    "\n",
    "def read_ADC(ch):\n",
    "    mu = [0.5, 2][ch]\n",
    "    sigma = [0.1, 0.5][ch]\n",
    "    return np.random.normal(mu, sigma)"
   ]
  },
  {
   "cell_type": "markdown",
   "metadata": {},
   "source": [
    "To monitor both channels, we would simply create two Watchdog objects, each pointing at a given channel:"
   ]
  },
  {
   "cell_type": "code",
   "execution_count": 4,
   "metadata": {},
   "outputs": [
    {
     "name": "stdout",
     "output_type": "stream",
     "text": [
      "(0.39993110752489147, True)\n",
      "(1.7695772876562152, False)\n"
     ]
    }
   ],
   "source": [
    "from functools import partial, partialmethod\n",
    "watchdogs = {}\n",
    "for ch in range(2):\n",
    "    func = partial(read_ADC, ch)\n",
    "    watchdogs[str(ch)] = Watchdog(func, threshold=(0,1))\n",
    "\n",
    "print(watchdogs['0'].check())\n",
    "print(watchdogs['1'].check())"
   ]
  },
  {
   "cell_type": "markdown",
   "metadata": {},
   "source": [
    "# Monitors\n",
    "The Monitor class manages multiple Watchdogs. We'll use it to handle the two objects defined in the previous example. If a filename is passed to the Monitor constructor, the result will automatically be appended to the file in a new line."
   ]
  },
  {
   "cell_type": "code",
   "execution_count": null,
   "metadata": {},
   "outputs": [],
   "source": [
    "from watchdog import Monitor\n",
    "        \n",
    "m = Monitor(watchdogs, filename = 'watchdog_test.txt')\n",
    "m.check()"
   ]
  },
  {
   "cell_type": "markdown",
   "metadata": {},
   "source": [
    "For continuous periodic monitoring, call the Monitor.start_periodic() method with your desired period. For example, let's check once per second:"
   ]
  },
  {
   "cell_type": "code",
   "execution_count": null,
   "metadata": {},
   "outputs": [],
   "source": [
    "m.start_periodic(1)"
   ]
  },
  {
   "cell_type": "markdown",
   "metadata": {},
   "source": [
    "Note that the Monitor.start_periodic method uses Python's sched module for event scheduling to avoid accumulated drifts. For example, if your check() method takes 50 ms to return and you call it in a loop with a 1s delay, the true time between checks will actually be 1.05 s. Using the scheduler allows drift-free checking; however, you should make sure that the check() call always returns in a time shorter than your chosen period!\n",
    "\n",
    "To stop the monitoring, just call the Monitor.stop() method:"
   ]
  },
  {
   "cell_type": "code",
   "execution_count": null,
   "metadata": {},
   "outputs": [],
   "source": [
    "m.stop()"
   ]
  },
  {
   "cell_type": "markdown",
   "metadata": {},
   "source": [
    "Monitoring can be synced to some other process through software triggers, e.g. TTL pulses acquired with a DAQ board. Just define a method which returns as soon as a trigger is received and pass it into the Monitor.start_triggered() method. Let's simulate a trigger arriving once per second:"
   ]
  },
  {
   "cell_type": "code",
   "execution_count": null,
   "metadata": {},
   "outputs": [],
   "source": [
    "import time\n",
    "def trigger():\n",
    "    time.sleep(1)\n",
    "    return\n",
    "\n",
    "m.start_triggered(trigger)"
   ]
  },
  {
   "cell_type": "code",
   "execution_count": null,
   "metadata": {},
   "outputs": [],
   "source": [
    "m.stop()"
   ]
  },
  {
   "cell_type": "markdown",
   "metadata": {},
   "source": [
    "### Plotting\n",
    "Call the Monitor.plot() method to display a live plot of all monitored channels:"
   ]
  },
  {
   "cell_type": "code",
   "execution_count": null,
   "metadata": {},
   "outputs": [],
   "source": [
    "m.plot()"
   ]
  },
  {
   "cell_type": "markdown",
   "metadata": {},
   "source": [
    "### Callbacks\n",
    "You can pass a callback to the monitor to implement custom functionality with each monitoring cycle. For example, let's create a class which displays the last 5 datapoints in real time:"
   ]
  },
  {
   "cell_type": "code",
   "execution_count": 34,
   "metadata": {},
   "outputs": [
    {
     "data": {
      "application/vnd.jupyter.widget-view+json": {
       "model_id": "59038c42b858470db9d46d7c9aa121c8",
       "version_major": 2,
       "version_minor": 0
      },
      "text/plain": [
       "Output()"
      ]
     },
     "metadata": {},
     "output_type": "display_data"
    }
   ],
   "source": [
    "from watchdog import Monitor\n",
    "import pandas as pd \n",
    "from IPython.display import display, HTML, clear_output\n",
    "from ipywidgets import Output\n",
    "\n",
    "class Display:\n",
    "    def __init__(self):\n",
    "        self.data = pd.DataFrame()\n",
    "        self.output = Output()\n",
    "        display(self.output)\n",
    "        \n",
    "    def callback(self, data):\n",
    "        self.data = self.data.append(data)\n",
    "        self.data = self.data[-5::]\n",
    "        with self.output:\n",
    "            clear_output(wait=True)\n",
    "            display(HTML(self.data.to_html()))\n",
    "    \n",
    "d = Display()\n",
    "m_cb = Monitor(watchdogs, filename = 'watchdog_test.txt', callback=d.callback, visualize=True)\n",
    "\n",
    "m_cb.start_periodic(1)"
   ]
  },
  {
   "cell_type": "code",
   "execution_count": 36,
   "metadata": {},
   "outputs": [],
   "source": [
    "m_cb.stop()"
   ]
  },
  {
   "cell_type": "code",
   "execution_count": 35,
   "metadata": {},
   "outputs": [
    {
     "data": {
      "application/vnd.jupyter.widget-view+json": {
       "model_id": "248d2131c7874d11be68d2e0f4332363",
       "version_major": 2,
       "version_minor": 0
      },
      "text/plain": [
       "FigureWidget({\n",
       "    'data': [{'mode': 'markers',\n",
       "              'name': '0',\n",
       "              'type': 'scatter',\n",
       "  …"
      ]
     },
     "metadata": {},
     "output_type": "display_data"
    }
   ],
   "source": [
    "m_cb.plot()"
   ]
  },
  {
   "cell_type": "code",
   "execution_count": null,
   "metadata": {},
   "outputs": [],
   "source": []
  }
 ],
 "metadata": {
  "kernelspec": {
   "display_name": "Python 3",
   "language": "python",
   "name": "python3"
  },
  "language_info": {
   "codemirror_mode": {
    "name": "ipython",
    "version": 3
   },
   "file_extension": ".py",
   "mimetype": "text/x-python",
   "name": "python",
   "nbconvert_exporter": "python",
   "pygments_lexer": "ipython3",
   "version": "3.6.6"
  },
  "toc": {
   "base_numbering": 1,
   "nav_menu": {},
   "number_sections": false,
   "sideBar": true,
   "skip_h1_title": false,
   "title_cell": "Table of Contents",
   "title_sidebar": "Contents",
   "toc_cell": false,
   "toc_position": {},
   "toc_section_display": true,
   "toc_window_display": true
  }
 },
 "nbformat": 4,
 "nbformat_minor": 2
}
